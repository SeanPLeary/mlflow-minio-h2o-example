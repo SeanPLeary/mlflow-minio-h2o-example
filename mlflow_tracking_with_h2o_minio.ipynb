{
 "cells": [
  {
   "cell_type": "markdown",
   "metadata": {},
   "source": [
    "# MLflow Tracking: H2O example (remote server w/ Minio)\n",
    "- The MLflow Tracking component is an API and UI for logging parameters, code versions, metrics, and output files when running your machine learning code and for later visualizing the results.\n",
    "- This example uses H2O binary classification model on an public dataset\n",
    "- MLflow Tracking can be done locally or using a remote server.\n",
    "    - this notebook will use a `remote server` for tracking\n",
    "    - MLflow requires a cloud bucket storage for artifacts\n",
    "        - a Minio server provides a bucket for artifacts (plots,images,log files ..any unstructured data)\n",
    "- set environmental variables for Minio bucket storage before running notebook\n",
    "    - export MLFLOW_URL=mlflow_url\n",
    "    - export MLFLOW_S3_ENDPOINT_URL=minio_url\n",
    "    - export AWS_ACCESS_KEY_ID=minio_access_key\n",
    "    - export AWS_SECRET_ACCESS_KEY=minio_secret_key   \n",
    "- this notebook was tested on Windows Subsystem for Linux\n",
    "- references:\n",
    "    - h2o: https://www.h2o.ai/\n",
    "    - mlflow: https://mlflow.org/"
   ]
  },
  {
   "cell_type": "markdown",
   "metadata": {},
   "source": [
    "## Import Dependencies"
   ]
  },
  {
   "cell_type": "code",
   "execution_count": 1,
   "metadata": {},
   "outputs": [],
   "source": [
    "import h2o\n",
    "import mlflow\n",
    "import mlflow.h2o\n",
    "import mlflow.server\n",
    "from h2o.estimators.random_forest import H2ORandomForestEstimator\n",
    "from h2o.automl import H2OAutoML\n",
    "import numpy as np\n",
    "import os.path\n",
    "import time\n",
    "import matplotlib.pyplot as plt\n",
    "import itertools\n",
    "import json\n",
    "import os\n",
    "\n",
    "%matplotlib inline"
   ]
  },
  {
   "cell_type": "markdown",
   "metadata": {},
   "source": [
    "## Initialize H2O"
   ]
  },
  {
   "cell_type": "code",
   "execution_count": 2,
   "metadata": {},
   "outputs": [
    {
     "name": "stdout",
     "output_type": "stream",
     "text": [
      "Checking whether there is an H2O instance running at http://localhost:54321..... not found.\n",
      "Attempting to start a local H2O server...\n",
      "  Java Version: openjdk version \"1.8.0_191\"; OpenJDK Runtime Environment (build 1.8.0_191-8u191-b12-2ubuntu0.16.04.1-b12); OpenJDK 64-Bit Server VM (build 25.191-b12, mixed mode)\n",
      "  Starting server from /home/sean/miniconda3/envs/mlflow_h2o/lib/python3.6/site-packages/h2o/backend/bin/h2o.jar\n",
      "  Ice root: /tmp/tmphwh0b7tt\n",
      "  JVM stdout: /tmp/tmphwh0b7tt/h2o_sean_started_from_python.out\n",
      "  JVM stderr: /tmp/tmphwh0b7tt/h2o_sean_started_from_python.err\n",
      "  Server is running at http://127.0.0.1:54321\n",
      "Connecting to H2O server at http://127.0.0.1:54321... successful.\n"
     ]
    },
    {
     "data": {
      "text/html": [
       "<div style=\"overflow:auto\"><table style=\"width:50%\"><tr><td>H2O cluster uptime:</td>\n",
       "<td>04 secs</td></tr>\n",
       "<tr><td>H2O cluster timezone:</td>\n",
       "<td>Etc/GMT</td></tr>\n",
       "<tr><td>H2O data parsing timezone:</td>\n",
       "<td>UTC</td></tr>\n",
       "<tr><td>H2O cluster version:</td>\n",
       "<td>3.22.1.4</td></tr>\n",
       "<tr><td>H2O cluster version age:</td>\n",
       "<td>6 days </td></tr>\n",
       "<tr><td>H2O cluster name:</td>\n",
       "<td>H2O_from_python_sean_j55rgh</td></tr>\n",
       "<tr><td>H2O cluster total nodes:</td>\n",
       "<td>1</td></tr>\n",
       "<tr><td>H2O cluster free memory:</td>\n",
       "<td>3.531 Gb</td></tr>\n",
       "<tr><td>H2O cluster total cores:</td>\n",
       "<td>4</td></tr>\n",
       "<tr><td>H2O cluster allowed cores:</td>\n",
       "<td>1</td></tr>\n",
       "<tr><td>H2O cluster status:</td>\n",
       "<td>accepting new members, healthy</td></tr>\n",
       "<tr><td>H2O connection url:</td>\n",
       "<td>http://127.0.0.1:54321</td></tr>\n",
       "<tr><td>H2O connection proxy:</td>\n",
       "<td>None</td></tr>\n",
       "<tr><td>H2O internal security:</td>\n",
       "<td>False</td></tr>\n",
       "<tr><td>H2O API Extensions:</td>\n",
       "<td>Amazon S3, XGBoost, Algos, AutoML, Core V3, Core V4</td></tr>\n",
       "<tr><td>Python version:</td>\n",
       "<td>3.6.8 final</td></tr></table></div>"
      ],
      "text/plain": [
       "--------------------------  ---------------------------------------------------\n",
       "H2O cluster uptime:         04 secs\n",
       "H2O cluster timezone:       Etc/GMT\n",
       "H2O data parsing timezone:  UTC\n",
       "H2O cluster version:        3.22.1.4\n",
       "H2O cluster version age:    6 days\n",
       "H2O cluster name:           H2O_from_python_sean_j55rgh\n",
       "H2O cluster total nodes:    1\n",
       "H2O cluster free memory:    3.531 Gb\n",
       "H2O cluster total cores:    4\n",
       "H2O cluster allowed cores:  1\n",
       "H2O cluster status:         accepting new members, healthy\n",
       "H2O connection url:         http://127.0.0.1:54321\n",
       "H2O connection proxy:\n",
       "H2O internal security:      False\n",
       "H2O API Extensions:         Amazon S3, XGBoost, Algos, AutoML, Core V3, Core V4\n",
       "Python version:             3.6.8 final\n",
       "--------------------------  ---------------------------------------------------"
      ]
     },
     "metadata": {},
     "output_type": "display_data"
    }
   ],
   "source": [
    "h2o.init()"
   ]
  },
  {
   "cell_type": "markdown",
   "metadata": {},
   "source": [
    "## Import dataset\n",
    "- predict if someone has diabetes\n",
    "- reponse column: Outcome \n",
    "- feature columns: Pregnancies,Glucose,BloodPressure,Insulin,BMI,DiabetesPedigreeFunction,Age"
   ]
  },
  {
   "cell_type": "code",
   "execution_count": 3,
   "metadata": {},
   "outputs": [
    {
     "name": "stdout",
     "output_type": "stream",
     "text": [
      "Parse progress: |█████████████████████████████████████████████████████████| 100%\n"
     ]
    }
   ],
   "source": [
    "hf = h2o.import_file(path=\"https://raw.githubusercontent.com/plotly/datasets/master/diabetes.csv\")"
   ]
  },
  {
   "cell_type": "code",
   "execution_count": 4,
   "metadata": {},
   "outputs": [
    {
     "data": {
      "text/html": [
       "<table>\n",
       "<thead>\n",
       "<tr><th style=\"text-align: right;\">  Pregnancies</th><th style=\"text-align: right;\">  Glucose</th><th style=\"text-align: right;\">  BloodPressure</th><th style=\"text-align: right;\">  SkinThickness</th><th style=\"text-align: right;\">  Insulin</th><th style=\"text-align: right;\">  BMI</th><th style=\"text-align: right;\">  DiabetesPedigreeFunction</th><th style=\"text-align: right;\">  Age</th><th style=\"text-align: right;\">  Outcome</th></tr>\n",
       "</thead>\n",
       "<tbody>\n",
       "<tr><td style=\"text-align: right;\">            6</td><td style=\"text-align: right;\">      148</td><td style=\"text-align: right;\">             72</td><td style=\"text-align: right;\">             35</td><td style=\"text-align: right;\">        0</td><td style=\"text-align: right;\"> 33.6</td><td style=\"text-align: right;\">                     0.627</td><td style=\"text-align: right;\">   50</td><td style=\"text-align: right;\">        1</td></tr>\n",
       "<tr><td style=\"text-align: right;\">            1</td><td style=\"text-align: right;\">       85</td><td style=\"text-align: right;\">             66</td><td style=\"text-align: right;\">             29</td><td style=\"text-align: right;\">        0</td><td style=\"text-align: right;\"> 26.6</td><td style=\"text-align: right;\">                     0.351</td><td style=\"text-align: right;\">   31</td><td style=\"text-align: right;\">        0</td></tr>\n",
       "<tr><td style=\"text-align: right;\">            8</td><td style=\"text-align: right;\">      183</td><td style=\"text-align: right;\">             64</td><td style=\"text-align: right;\">              0</td><td style=\"text-align: right;\">        0</td><td style=\"text-align: right;\"> 23.3</td><td style=\"text-align: right;\">                     0.672</td><td style=\"text-align: right;\">   32</td><td style=\"text-align: right;\">        1</td></tr>\n",
       "<tr><td style=\"text-align: right;\">            1</td><td style=\"text-align: right;\">       89</td><td style=\"text-align: right;\">             66</td><td style=\"text-align: right;\">             23</td><td style=\"text-align: right;\">       94</td><td style=\"text-align: right;\"> 28.1</td><td style=\"text-align: right;\">                     0.167</td><td style=\"text-align: right;\">   21</td><td style=\"text-align: right;\">        0</td></tr>\n",
       "<tr><td style=\"text-align: right;\">            0</td><td style=\"text-align: right;\">      137</td><td style=\"text-align: right;\">             40</td><td style=\"text-align: right;\">             35</td><td style=\"text-align: right;\">      168</td><td style=\"text-align: right;\"> 43.1</td><td style=\"text-align: right;\">                     2.288</td><td style=\"text-align: right;\">   33</td><td style=\"text-align: right;\">        1</td></tr>\n",
       "</tbody>\n",
       "</table>"
      ]
     },
     "metadata": {},
     "output_type": "display_data"
    },
    {
     "data": {
      "text/plain": []
     },
     "execution_count": 4,
     "metadata": {},
     "output_type": "execute_result"
    }
   ],
   "source": [
    "hf.head(5)"
   ]
  },
  {
   "cell_type": "markdown",
   "metadata": {},
   "source": [
    "## Add more descriptive reponse labels"
   ]
  },
  {
   "cell_type": "code",
   "execution_count": 5,
   "metadata": {},
   "outputs": [
    {
     "data": {
      "text/html": [
       "<table>\n",
       "<thead>\n",
       "<tr><th style=\"text-align: right;\">  Pregnancies</th><th style=\"text-align: right;\">  Glucose</th><th style=\"text-align: right;\">  BloodPressure</th><th style=\"text-align: right;\">  SkinThickness</th><th style=\"text-align: right;\">  Insulin</th><th style=\"text-align: right;\">  BMI</th><th style=\"text-align: right;\">  DiabetesPedigreeFunction</th><th style=\"text-align: right;\">  Age</th><th style=\"text-align: right;\">  Outcome</th><th>OutcomeClass  </th></tr>\n",
       "</thead>\n",
       "<tbody>\n",
       "<tr><td style=\"text-align: right;\">            6</td><td style=\"text-align: right;\">      148</td><td style=\"text-align: right;\">             72</td><td style=\"text-align: right;\">             35</td><td style=\"text-align: right;\">        0</td><td style=\"text-align: right;\"> 33.6</td><td style=\"text-align: right;\">                     0.627</td><td style=\"text-align: right;\">   50</td><td style=\"text-align: right;\">        1</td><td>Sick          </td></tr>\n",
       "<tr><td style=\"text-align: right;\">            1</td><td style=\"text-align: right;\">       85</td><td style=\"text-align: right;\">             66</td><td style=\"text-align: right;\">             29</td><td style=\"text-align: right;\">        0</td><td style=\"text-align: right;\"> 26.6</td><td style=\"text-align: right;\">                     0.351</td><td style=\"text-align: right;\">   31</td><td style=\"text-align: right;\">        0</td><td>NotSick       </td></tr>\n",
       "<tr><td style=\"text-align: right;\">            8</td><td style=\"text-align: right;\">      183</td><td style=\"text-align: right;\">             64</td><td style=\"text-align: right;\">              0</td><td style=\"text-align: right;\">        0</td><td style=\"text-align: right;\"> 23.3</td><td style=\"text-align: right;\">                     0.672</td><td style=\"text-align: right;\">   32</td><td style=\"text-align: right;\">        1</td><td>Sick          </td></tr>\n",
       "<tr><td style=\"text-align: right;\">            1</td><td style=\"text-align: right;\">       89</td><td style=\"text-align: right;\">             66</td><td style=\"text-align: right;\">             23</td><td style=\"text-align: right;\">       94</td><td style=\"text-align: right;\"> 28.1</td><td style=\"text-align: right;\">                     0.167</td><td style=\"text-align: right;\">   21</td><td style=\"text-align: right;\">        0</td><td>NotSick       </td></tr>\n",
       "<tr><td style=\"text-align: right;\">            0</td><td style=\"text-align: right;\">      137</td><td style=\"text-align: right;\">             40</td><td style=\"text-align: right;\">             35</td><td style=\"text-align: right;\">      168</td><td style=\"text-align: right;\"> 43.1</td><td style=\"text-align: right;\">                     2.288</td><td style=\"text-align: right;\">   33</td><td style=\"text-align: right;\">        1</td><td>Sick          </td></tr>\n",
       "</tbody>\n",
       "</table>"
      ]
     },
     "metadata": {},
     "output_type": "display_data"
    },
    {
     "data": {
      "text/plain": []
     },
     "execution_count": 5,
     "metadata": {},
     "output_type": "execute_result"
    }
   ],
   "source": [
    "hf['OutcomeClass'] = 'Sick'\n",
    "mask = hf['Outcome'] == 0\n",
    "hf[mask,'OutcomeClass'] = 'NotSick'\n",
    "hf['OutcomeClass'] = hf['OutcomeClass'].asfactor() #make sure it the type is categorical\n",
    "hf['Outcome'] = hf['Outcome'].asfactor()\n",
    "\n",
    "hf.head(5)"
   ]
  },
  {
   "cell_type": "markdown",
   "metadata": {},
   "source": [
    "## Check class balance"
   ]
  },
  {
   "cell_type": "code",
   "execution_count": 6,
   "metadata": {},
   "outputs": [
    {
     "data": {
      "text/html": [
       "<table>\n",
       "<thead>\n",
       "<tr><th>OutcomeClass  </th><th style=\"text-align: right;\">  nrow</th></tr>\n",
       "</thead>\n",
       "<tbody>\n",
       "<tr><td>NotSick       </td><td style=\"text-align: right;\">   500</td></tr>\n",
       "<tr><td>Sick          </td><td style=\"text-align: right;\">   268</td></tr>\n",
       "</tbody>\n",
       "</table>"
      ]
     },
     "metadata": {},
     "output_type": "display_data"
    },
    {
     "data": {
      "text/plain": []
     },
     "execution_count": 6,
     "metadata": {},
     "output_type": "execute_result"
    }
   ],
   "source": [
    "hf.group_by('OutcomeClass').count().get_frame()"
   ]
  },
  {
   "cell_type": "markdown",
   "metadata": {},
   "source": [
    "## Select features and response columns\n",
    "- display the list of features"
   ]
  },
  {
   "cell_type": "code",
   "execution_count": 7,
   "metadata": {},
   "outputs": [
    {
     "data": {
      "text/plain": [
       "['Pregnancies',\n",
       " 'Glucose',\n",
       " 'BloodPressure',\n",
       " 'SkinThickness',\n",
       " 'Insulin',\n",
       " 'BMI',\n",
       " 'DiabetesPedigreeFunction',\n",
       " 'Age']"
      ]
     },
     "execution_count": 7,
     "metadata": {},
     "output_type": "execute_result"
    }
   ],
   "source": [
    "y = 'OutcomeClass'\n",
    "X = hf.columns\n",
    "X.remove(y)\n",
    "X.remove('Outcome')\n",
    "\n",
    "X"
   ]
  },
  {
   "cell_type": "markdown",
   "metadata": {},
   "source": [
    "## Split data into test/train subsets"
   ]
  },
  {
   "cell_type": "code",
   "execution_count": 8,
   "metadata": {},
   "outputs": [],
   "source": [
    "hf_train, hf_test = hf.split_frame(ratios = [0.8],seed=42)"
   ]
  },
  {
   "cell_type": "markdown",
   "metadata": {},
   "source": [
    "# Now we'll do some modeling and track with MLflow"
   ]
  },
  {
   "cell_type": "markdown",
   "metadata": {},
   "source": [
    "## Set mlflow url\n",
    "- MLFLOW_URL env variable should be set before running notebook\n",
    "- choose experiement name\n",
    "- and activate it using .set_experiment()"
   ]
  },
  {
   "cell_type": "code",
   "execution_count": 9,
   "metadata": {},
   "outputs": [
    {
     "data": {
      "text/plain": [
       "'http://127.0.0.1:5000'"
      ]
     },
     "execution_count": 9,
     "metadata": {},
     "output_type": "execute_result"
    }
   ],
   "source": [
    "mlflow_url = os.environ['MLFLOW_URL'] \n",
    "mlflow.tracking.set_tracking_uri(mlflow_url)\n",
    "\n",
    "mlflow_url"
   ]
  },
  {
   "cell_type": "markdown",
   "metadata": {},
   "source": [
    "## List existing experiments"
   ]
  },
  {
   "cell_type": "code",
   "execution_count": 10,
   "metadata": {},
   "outputs": [
    {
     "data": {
      "text/plain": [
       "[<Experiment: experiment_id=0, name='h2o_diabetes', artifact_location='s3://mlflow/artifacts/0', lifecycle_stage='active'>,\n",
       " <Experiment: experiment_id=1, name='h2o_diabetes2', artifact_location='s3://mlflow/artifacts/1', lifecycle_stage='active'>]"
      ]
     },
     "execution_count": 10,
     "metadata": {},
     "output_type": "execute_result"
    }
   ],
   "source": [
    "mlflow.tracking.MlflowClient().list_experiments()"
   ]
  },
  {
   "cell_type": "markdown",
   "metadata": {},
   "source": [
    "## Create a new experiment\n",
    "- this will generate and experiement id"
   ]
  },
  {
   "cell_type": "code",
   "execution_count": 16,
   "metadata": {},
   "outputs": [
    {
     "data": {
      "text/plain": [
       "1"
      ]
     },
     "execution_count": 16,
     "metadata": {},
     "output_type": "execute_result"
    }
   ],
   "source": [
    "ex_id = mlflow.create_experiment(name='h2o_diabetes2')\n",
    "\n",
    "ex_id"
   ]
  },
  {
   "cell_type": "code",
   "execution_count": 11,
   "metadata": {},
   "outputs": [],
   "source": [
    "ex_id = 1"
   ]
  },
  {
   "cell_type": "markdown",
   "metadata": {},
   "source": [
    "## We'll now run RandomForest Models with a grid/list of a hyper-parameter\n",
    "- hyper-parameter: number of trees\n",
    "- we'll log the number of trees, logloss,auc\n",
    "- we'll also save each model"
   ]
  },
  {
   "cell_type": "markdown",
   "metadata": {},
   "source": [
    "### Helper functions\n",
    "- save scoring,variable_importance,roc, confusion_matrix plots"
   ]
  },
  {
   "cell_type": "code",
   "execution_count": 12,
   "metadata": {},
   "outputs": [],
   "source": [
    "def save_plot_scoring_history(model,image_name):\n",
    "    df = model.scoring_history()\n",
    "    plt.plot(df['number_of_trees'],df['training_logloss'])\n",
    "    plt.plot(df['number_of_trees'],df['validation_logloss'])\n",
    "    plt.xlabel('number of trees',fontsize=14)\n",
    "    plt.ylabel('logloss',fontsize=14)\n",
    "    plt.title('Scoring History',fontsize=18)\n",
    "    plt.legend(['training','validation'])\n",
    "    plt.grid()\n",
    "    plt.savefig(image_name)\n",
    "    plt.close()\n",
    "\n",
    "def save_plot_varimp(model,image_name):\n",
    "    plt.rcdefaults()\n",
    "    fig, ax = plt.subplots()\n",
    "    variables = model._model_json['output']['variable_importances']['variable']\n",
    "    y_pos = np.arange(len(variables))\n",
    "    scaled_importance = model._model_json['output']['variable_importances']['scaled_importance']\n",
    "    ax.barh(y_pos, scaled_importance, align='center', color='blue', ecolor='black')\n",
    "    ax.set_yticks(y_pos)\n",
    "    ax.set_yticklabels(variables)\n",
    "    ax.invert_yaxis()\n",
    "    ax.set_xlabel('Scaled Importance')\n",
    "    ax.set_title('Variable Importance')\n",
    "    fig.savefig(image_name)\n",
    "    plt.close()\n",
    "\n",
    "    \n",
    "def save_plot_roc(model,image_name):\n",
    "    perf = model.model_performance(valid=True) # roc for validation frame\n",
    "    plt.xlabel('False Positive Rate (FPR)')\n",
    "    plt.ylabel('True Positive Rate (TPR)')\n",
    "    plt.title('ROC Curve')\n",
    "    plt.text(0.5, 0.5, r'AUC={0:.4f}'.format(perf._metric_json[\"AUC\"]))\n",
    "    plt.plot(perf.fprs, perf.tprs, 'b--')\n",
    "    plt.legend(['validation'])\n",
    "    plt.axis([0, 1, 0, 1])\n",
    "    plt.grid()\n",
    "    plt.savefig(image_name)\n",
    "    plt.close()\n",
    "\n",
    "    \n",
    "def plot_confusion_matrix(cm, classes,\n",
    "                          normalize=False,\n",
    "                          title='Confusion matrix',\n",
    "                          cmap=plt.cm.Blues,\n",
    "                          image_name='confusion_matrix.png'):\n",
    "    \n",
    "    #reference: https://scikit-learn.org/stable/auto_examples/model_selection/plot_confusion_matrix.html\n",
    "    \n",
    "    if normalize:\n",
    "        cm = cm.astype('float') / cm.sum(axis=1)[:, np.newaxis]\n",
    "        #print(\"Normalized confusion matrix\")\n",
    "    #else:\n",
    "        #print('Confusion matrix, without normalization')\n",
    "\n",
    "    #print(cm)\n",
    "\n",
    "    plt.imshow(cm, interpolation='nearest', cmap=cmap)\n",
    "    plt.title(title)\n",
    "    plt.colorbar()\n",
    "    tick_marks = np.arange(len(classes))\n",
    "    plt.xticks(tick_marks, classes, rotation=45)\n",
    "    plt.yticks(tick_marks, classes)\n",
    "\n",
    "    fmt = '.2f' if normalize else 'd'\n",
    "    thresh = cm.max() / 2.\n",
    "    for i, j in itertools.product(range(cm.shape[0]), range(cm.shape[1])):\n",
    "        plt.text(j, i, format(cm[i, j], fmt),\n",
    "                 horizontalalignment=\"center\",\n",
    "                 color=\"white\" if cm[i, j] > thresh else \"black\")\n",
    "\n",
    "    plt.ylabel('True label')\n",
    "    plt.xlabel('Predicted label')\n",
    "    plt.tight_layout()\n",
    "    plt.savefig(image_name)\n",
    "    plt.close()\n",
    "    \n"
   ]
  },
  {
   "cell_type": "markdown",
   "metadata": {},
   "source": [
    "### create a folder for local artifact storage"
   ]
  },
  {
   "cell_type": "code",
   "execution_count": 13,
   "metadata": {},
   "outputs": [],
   "source": [
    "if not os.path.exists(\"artifact_folder\"):\n",
    "    os.makedirs(\"artifact_folder\")"
   ]
  },
  {
   "cell_type": "markdown",
   "metadata": {},
   "source": [
    "### grid number of trees random forest function\n",
    "- this is a modification of the example here: https://github.com/mlflow/mlflow/blob/master/examples/h2o/random_forest.ipynb"
   ]
  },
  {
   "cell_type": "code",
   "execution_count": 14,
   "metadata": {},
   "outputs": [
    {
     "data": {
      "text/plain": [
       "<ActiveRun: info=<RunInfo: run_uuid='53bc1abb5edb4f43a1bd7e68191b7264', experiment_id=1, name='', source_type=4, source_name='/home/sean/miniconda3/envs/mlflow_h2o/lib/python3.6/site-packages/ipykernel_launcher.py', entry_point_name='', user_id='sean', status=1, start_time=1550855992337, end_time=None, source_version='', lifecycle_stage='active', artifact_uri='s3://mlflow/artifacts/1/53bc1abb5edb4f43a1bd7e68191b7264/artifacts'>, data=<RunData: metrics=[], params=[], tags=[]>>"
      ]
     },
     "execution_count": 14,
     "metadata": {},
     "output_type": "execute_result"
    }
   ],
   "source": [
    "mlflow.start_run(experiment_id=ex_id)"
   ]
  },
  {
   "cell_type": "code",
   "execution_count": 16,
   "metadata": {},
   "outputs": [],
   "source": [
    "mlflow.end_run()"
   ]
  },
  {
   "cell_type": "code",
   "execution_count": 17,
   "metadata": {},
   "outputs": [],
   "source": [
    "file_path = os.path.join('artifact_folder', \"some_output_file.txt\")\n",
    "with open(file_path, \"w\") as handle:\n",
    "    handle.write('hello,world')\n",
    "mlflow.log_artifacts('artifact_folder')\n",
    "#log_artifact(file_path, \"another_dir\")"
   ]
  },
  {
   "cell_type": "code",
   "execution_count": null,
   "metadata": {},
   "outputs": [],
   "source": [
    "def trainRandomForest(ntrees):\n",
    "    with mlflow.start_run(experiment_id=ex_id):\n",
    "        rf = H2ORandomForestEstimator(ntrees=ntrees)\n",
    "        rf.train(x=X,\n",
    "                 y=y,\n",
    "                 training_frame=hf_train,\n",
    "                 validation_frame=hf_test)\n",
    "        \n",
    "        mlflow.log_param(\"ntrees\", ntrees)\n",
    "        mlflow.log_metric(\"auc\", rf.auc())\n",
    "        mlflow.log_metric(\"logloss\", rf.logloss())\n",
    "        \n",
    "        mlflow.h2o.log_model(rf, \"model\")\n",
    "        \n",
    "        cnf_matrix = np.zeros((2, 2))\n",
    "        cnf_matrix = cnf_matrix.astype('int')\n",
    "        perf = rf.model_performance(valid=True) # roc for validation frame\n",
    "        conf_list = perf.confusion_matrix().to_list()\n",
    "        cnf_matrix[0,0] = conf_list[0][0]\n",
    "        cnf_matrix[1,0] = conf_list[1][0]\n",
    "        cnf_matrix[0,1] = conf_list[0][1]\n",
    "        cnf_matrix[1,1] = conf_list[1][1]\n",
    "        np.set_printoptions(precision=2)\n",
    "        plot_confusion_matrix(cnf_matrix, classes = ['NotSick','Sick'],\n",
    "                              title='Confusion matrix, without normalization',\n",
    "                              image_name = 'artifact_folder/confusion_matrix.png')\n",
    "        \n",
    "        catch_kill = cnf_matrix[1,1]/cnf_matrix[1,0]\n",
    "        mlflow.log_metric(\"catch/kill\",catch_kill)\n",
    "        \n",
    "        while not os.path.exists('artifact_folder/confusion_matrix.png'):\n",
    "            time.sleep(1)\n",
    "        mlflow.log_artifact(\"artifact_folder/confusion_matrix.png\")\n",
    "        \n",
    "        save_plot_scoring_history(rf,'artifact_folder/score_history.png')\n",
    "        while not os.path.exists('artifact_folder/score_history.png'):\n",
    "            time.sleep(1)\n",
    "        mlflow.log_artifact(\"artifact_folder/score_history.png\")\n",
    "        \n",
    "        save_plot_varimp(rf,'artifact_folder/varimp.png')\n",
    "        while not os.path.exists('artifact_folder/varimp.png'):\n",
    "            time.sleep(1)\n",
    "        mlflow.log_artifact(\"artifact_folder/varimp.png\")\n",
    "        \n",
    "        save_plot_roc(rf,'artifact_folder/roc.png')\n",
    "        while not os.path.exists('artifact_folder/roc.png'):\n",
    "            time.sleep(1)\n",
    "        mlflow.log_artifact(\"artifact_folder/roc.png\")\n",
    "        \n",
    "        # in this case we'll delete the local plots on each iteration\n",
    "        os.remove(\"artifact_folder/score_history.png\")\n",
    "        os.remove(\"artifact_folder/varimp.png\")\n",
    "        os.remove(\"artifact_folder/roc.png\")\n",
    "        os.remove(\"artifact_folder/confusion_matrix.png\")"
   ]
  },
  {
   "cell_type": "code",
   "execution_count": 19,
   "metadata": {},
   "outputs": [
    {
     "name": "stderr",
     "output_type": "stream",
     "text": [
      "UsageError: Environment does not have key: AWS_SECRET_ACCESS_KEY\n"
     ]
    }
   ],
   "source": [
    "%env AWS_SECRET_ACCESS_KEY"
   ]
  },
  {
   "cell_type": "markdown",
   "metadata": {},
   "source": [
    "## train the model on grid search of varying number of trees"
   ]
  },
  {
   "cell_type": "code",
   "execution_count": null,
   "metadata": {},
   "outputs": [],
   "source": [
    "for ntrees in [10, 20, 50, 100, 200]:\n",
    "    trainRandomForest(ntrees)"
   ]
  },
  {
   "cell_type": "markdown",
   "metadata": {},
   "source": [
    "## Open the MLflow UI\n",
    "- open a browser to the uri provided below  "
   ]
  },
  {
   "cell_type": "code",
   "execution_count": null,
   "metadata": {},
   "outputs": [],
   "source": [
    "mlflow.tracking.get_tracking_uri()"
   ]
  },
  {
   "cell_type": "markdown",
   "metadata": {},
   "source": [
    "## If you need to make any additions to a run of an experiment:\n",
    "- mlflow.start_run(experiment_id=ex_id,run_uuid = '')\n",
    "    - you can get the run_uuid from the mlflow UI\n",
    "- make additions\n",
    "- mlflow.end_run()"
   ]
  },
  {
   "cell_type": "markdown",
   "metadata": {},
   "source": [
    "## Shutdown h2o cluster"
   ]
  },
  {
   "cell_type": "code",
   "execution_count": null,
   "metadata": {},
   "outputs": [],
   "source": [
    "h2o.cluster().shutdown()"
   ]
  }
 ],
 "metadata": {
  "kernelspec": {
   "display_name": "Python 3",
   "language": "python",
   "name": "python3"
  },
  "language_info": {
   "codemirror_mode": {
    "name": "ipython",
    "version": 3
   },
   "file_extension": ".py",
   "mimetype": "text/x-python",
   "name": "python",
   "nbconvert_exporter": "python",
   "pygments_lexer": "ipython3",
   "version": "3.6.8"
  },
  "varInspector": {
   "cols": {
    "lenName": 16,
    "lenType": 16,
    "lenVar": 40
   },
   "kernels_config": {
    "python": {
     "delete_cmd_postfix": "",
     "delete_cmd_prefix": "del ",
     "library": "var_list.py",
     "varRefreshCmd": "print(var_dic_list())"
    },
    "r": {
     "delete_cmd_postfix": ") ",
     "delete_cmd_prefix": "rm(",
     "library": "var_list.r",
     "varRefreshCmd": "cat(var_dic_list()) "
    }
   },
   "types_to_exclude": [
    "module",
    "function",
    "builtin_function_or_method",
    "instance",
    "_Feature"
   ],
   "window_display": false
  }
 },
 "nbformat": 4,
 "nbformat_minor": 2
}
